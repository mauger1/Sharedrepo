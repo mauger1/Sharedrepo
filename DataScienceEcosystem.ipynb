{
 "cells": [
  {
   "cell_type": "markdown",
   "id": "b366449c-81c5-409d-bc0f-31d304363e9d",
   "metadata": {
    "tags": []
   },
   "source": [
    "# Data Science Tools and Ecosystem"
   ]
  },
  {
   "cell_type": "markdown",
   "id": "8e405628-0787-436c-a5df-392d79ae9c44",
   "metadata": {},
   "source": [
    "In this notebook, Data Science Tools and Ecosystem are summarized."
   ]
  },
  {
   "cell_type": "markdown",
   "id": "ac7797c6-56c5-44fb-b378-e7a159bde446",
   "metadata": {
    "tags": []
   },
   "source": [
    "**Objectives:**\n",
    "\n",
    "- List popular languages for Data Science\n",
    "- List Some of the commonly used libraries used by Data Scientists\n",
    "- Perform arithmetic expressions"
   ]
  },
  {
   "cell_type": "markdown",
   "id": "b59a2fe4-81d7-4d70-b55d-4158719453c4",
   "metadata": {},
   "source": [
    "Some of the popular languages that Data Scientists use are:\n",
    "1. Python\n",
    "2. R\n",
    "3. Scala"
   ]
  },
  {
   "cell_type": "markdown",
   "id": "fbb794ef-70e5-4a9e-bd52-86d1da3c51a4",
   "metadata": {
    "tags": []
   },
   "source": [
    "Some of the commonly used libraries used by Data Scientists include:\n",
    "1. Matloplib\n",
    "2. Pandas\n",
    "3. NumPy"
   ]
  },
  {
   "cell_type": "markdown",
   "id": "2b1a9316-7ed2-4a4a-962d-bc9d2021c82c",
   "metadata": {
    "tags": []
   },
   "source": [
    "|Data Science Tools |\n",
    "| ------ | \n",
    "| Jupyter | \n",
    "|RStudio | \n",
    "| Apache Spark | \n"
   ]
  },
  {
   "cell_type": "markdown",
   "id": "59af84cf-5af9-465c-b2d7-824cc6be4f14",
   "metadata": {},
   "source": [
    "### Below are a few examples of evaluating arithmetic expressions in Python"
   ]
  },
  {
   "cell_type": "code",
   "execution_count": 4,
   "id": "fce7d71c-b077-447b-94d0-3cb3cb29d483",
   "metadata": {
    "tags": []
   },
   "outputs": [
    {
     "data": {
      "text/plain": [
       "17"
      ]
     },
     "execution_count": 4,
     "metadata": {},
     "output_type": "execute_result"
    }
   ],
   "source": [
    "# This a simple arithmetic expression to mutiply then add integers\n",
    "(3*4)+5"
   ]
  },
  {
   "cell_type": "code",
   "execution_count": 3,
   "id": "13c93774-dbaa-478b-9ecd-88818649bc99",
   "metadata": {
    "tags": []
   },
   "outputs": [
    {
     "data": {
      "text/plain": [
       "3.3333333333333335"
      ]
     },
     "execution_count": 3,
     "metadata": {},
     "output_type": "execute_result"
    }
   ],
   "source": [
    "# This will convert 200 minutes to hours by diving by 60\n",
    "number_of_minutes = 200\n",
    "hours = number_of_minutes/60\n",
    "hours"
   ]
  },
  {
   "cell_type": "markdown",
   "id": "ea73e482-0555-4d43-bb4b-287d09264aa6",
   "metadata": {
    "tags": []
   },
   "source": [
    "## Author\n",
    "Martin Auger-Rochon"
   ]
  },
  {
   "cell_type": "code",
   "execution_count": null,
   "id": "880e1f91-b447-438e-8ef1-84496748a045",
   "metadata": {},
   "outputs": [],
   "source": []
  }
 ],
 "metadata": {
  "kernelspec": {
   "display_name": "Python 3 (ipykernel)",
   "language": "python",
   "name": "python3"
  },
  "language_info": {
   "codemirror_mode": {
    "name": "ipython",
    "version": 3
   },
   "file_extension": ".py",
   "mimetype": "text/x-python",
   "name": "python",
   "nbconvert_exporter": "python",
   "pygments_lexer": "ipython3",
   "version": "3.11.4"
  }
 },
 "nbformat": 4,
 "nbformat_minor": 5
}
